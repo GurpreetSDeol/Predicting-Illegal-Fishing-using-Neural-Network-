{
 "cells": [
  {
   "cell_type": "code",
   "execution_count": 1,
   "metadata": {},
   "outputs": [
    {
     "name": "stdout",
     "output_type": "stream",
     "text": [
      "layers = ['WDPA_poly_Jun2024', 'WDPA_point_Jun2024', 'WDPA_source_Jun2024']\n"
     ]
    }
   ],
   "source": [
    "import geopandas as gpd\n",
    "import fiona\n",
    "import matplotlib.pyplot as plt \n",
    "import pandas as pd \n",
    "import glob\n",
    "import os\n",
    "\n",
    "gdb_path = rf'D:\\Datasets\\Illegal Fishing\\Original Data\\WDPA_Jun2024_Public.gdb'\n",
    "\n",
    "layers = fiona.listlayers(gdb_path)\n",
    "print(\"layers =\", layers)\n",
    "\n"
   ]
  },
  {
   "cell_type": "markdown",
   "metadata": {},
   "source": [
    "Loading data about marine protected areas around the world which are in two formats, point and polygons"
   ]
  },
  {
   "cell_type": "code",
   "execution_count": 2,
   "metadata": {},
   "outputs": [
    {
     "name": "stderr",
     "output_type": "stream",
     "text": [
      "c:\\Users\\gurpr\\AppData\\Local\\Programs\\Python\\Python312\\Lib\\site-packages\\pyogrio\\raw.py:196: RuntimeWarning: organizePolygons() received a polygon with more than 100 parts. The processing may be really slow.  You can skip the processing by setting METHOD=SKIP, or only make it analyze counter-clock wise parts by setting METHOD=ONLY_CCW if you can assume that the outline of holes is counter-clock wise defined\n",
      "  return ogr_read(\n"
     ]
    },
    {
     "name": "stdout",
     "output_type": "stream",
     "text": [
      "        WDPAID   WDPA_PID PA_DEF                                        NAME  \\\n",
      "0  555645336.0  555645336      1                                Pangasananan   \n",
      "1  555645495.0  555645495      1                             Inuyog No Banwa   \n",
      "2  555637442.0  555637442      1  Sombrero Island Nature Reserve Marine Park   \n",
      "3      32637.0      32637      1                                Sandy Island   \n",
      "4  555705843.0  555705843      1                                  Little Bay   \n",
      "\n",
      "                                    ORIG_NAME  \\\n",
      "0                                Pangasananan   \n",
      "1                             Inuyog No Banwa   \n",
      "2  Sombrero Island Nature Reserve Marine Park   \n",
      "3                                Sandy Island   \n",
      "4                                  Little Bay   \n",
      "\n",
      "                                              DESIG  \\\n",
      "0                                      Pangasananan   \n",
      "1                                   Inuyog No Banwa   \n",
      "2  Ramsar Site, Wetland of International Importance   \n",
      "3                                       Marine Park   \n",
      "4                                       Marine Park   \n",
      "\n",
      "                                          DESIG_ENG      DESIG_TYPE  \\\n",
      "0                                  Ancestral Domain  Not Applicable   \n",
      "1                                 Conserved habitat  Not Applicable   \n",
      "2  Ramsar Site, Wetland of International Importance   International   \n",
      "3                                       Marine Park        National   \n",
      "4                                       Marine Park        National   \n",
      "\n",
      "       IUCN_CAT           INT_CRIT  ...  \\\n",
      "0            VI     Not Applicable  ...   \n",
      "1            VI     Not Applicable  ...   \n",
      "2  Not Reported  (ii)(iii)(iv)(vi)  ...   \n",
      "3  Not Reported     Not Applicable  ...   \n",
      "4  Not Reported     Not Applicable  ...   \n",
      "\n",
      "                                           MANG_AUTH  \\\n",
      "0  Kamalaasan (Council of Elders); Hawudon (Commu...   \n",
      "1  Manigaon (Council Elders); Datu (Community Lea...   \n",
      "2                    Department of Natural Resources   \n",
      "3                    Department of Natural Resources   \n",
      "4                    Department of Natural Resources   \n",
      "\n",
      "                                           MANG_PLAN            VERIF  \\\n",
      "0                                   Written and oral  Expert Verified   \n",
      "1                                   Written and oral  Expert Verified   \n",
      "2  http://www.gov.ai/documents/fisheries/Manageme...   State Verified   \n",
      "3  http://www.gov.ai/documents/fisheries/Manageme...   State Verified   \n",
      "4  http://www.gov.ai/documents/fisheries/Manageme...   State Verified   \n",
      "\n",
      "   METADATAID       SUB_LOC PARENT_ISO3  ISO3       SUPP_INFO        CONS_OBJ  \\\n",
      "0        1943  Not Reported         PHL   PHL  Not Applicable  Not Applicable   \n",
      "1        1943  Not Reported         PHL   PHL  Not Applicable  Not Applicable   \n",
      "2        1117            AI         GBR   AIA  Not Applicable  Not Applicable   \n",
      "3        1117            AI         GBR   AIA  Not Applicable  Not Applicable   \n",
      "4        1117            AI         GBR   AIA  Not Applicable  Not Applicable   \n",
      "\n",
      "                                            geometry  \n",
      "0  MULTIPOLYGON (((126.2492 8.15981, 126.2577 8.1...  \n",
      "1  MULTIPOLYGON (((125.79419 8.64741, 125.80427 8...  \n",
      "2  MULTIPOLYGON (((-63.42582 18.56988, -63.42696 ...  \n",
      "3  MULTIPOLYGON (((-63.11361 18.21667, -63.11361 ...  \n",
      "4  MULTIPOLYGON (((-63.07345 18.23221, -63.07343 ...  \n",
      "\n",
      "[5 rows x 31 columns]\n"
     ]
    }
   ],
   "source": [
    "layers =  ['WDPA_poly_Jun2024', 'WDPA_point_Jun2024', 'WDPA_source_Jun2024']\n",
    "poly_data = gpd.read_file(gdb_path, layer=layers[0])\n",
    "print(poly_data.head())"
   ]
  },
  {
   "cell_type": "code",
   "execution_count": 10,
   "metadata": {},
   "outputs": [
    {
     "name": "stdout",
     "output_type": "stream",
     "text": [
      "        WDPAID   WDPA_PID PA_DEF                            NAME  \\\n",
      "0     315531.0     315531      1                           Susui   \n",
      "1       7623.0       7623      1                            Kyai   \n",
      "2  555547651.0  555547651      1                          Wahere   \n",
      "3       6702.0       6702      1                     Miani Dhand   \n",
      "4  555547652.0  555547652      1  Abalolo, Gwaedalo, Ailau (AGA)   \n",
      "\n",
      "                        ORIG_NAME                       DESIG  \\\n",
      "0                           Susui                Not Reported   \n",
      "1                            Kyai              Forest Reserve   \n",
      "2                          Wahere  Marine Protected Area/Tabu   \n",
      "3                     Miani Dhand          Wildlife Sanctuary   \n",
      "4  Abalolo, Gwaedalo, Ailau (AGA)  Marine Protected Area/Tabu   \n",
      "\n",
      "                    DESIG_ENG      DESIG_TYPE      IUCN_CAT        INT_CRIT  \\\n",
      "0                Not Reported        National            VI  Not Applicable   \n",
      "1              Forest Reserve        National  Not Reported  Not Applicable   \n",
      "2  Marine Protected Area/Tabu  Not Applicable  Not Assigned  Not Applicable   \n",
      "3          Wildlife Sanctuary        National            IV  Not Applicable   \n",
      "4  Marine Protected Area/Tabu        National  Not Reported  Not Applicable   \n",
      "\n",
      "   ...     MANG_AUTH     MANG_PLAN           VERIF METADATAID       SUB_LOC  \\\n",
      "0  ...  Not Reported  Not Reported    Not Reported       1865          FJ-E   \n",
      "1  ...  Not Reported  Not Reported    Not Reported        932        KE-400   \n",
      "2  ...  Not Reported         Draft  State Verified       1932  Not Reported   \n",
      "3  ...  Not Reported  Not Reported    Not Reported        745         PK-SD   \n",
      "4  ...  Not Reported  Not Reported    Not Reported       1686  Not Reported   \n",
      "\n",
      "  PARENT_ISO3  ISO3       SUPP_INFO        CONS_OBJ  \\\n",
      "0         FJI   FJI  Not Applicable  Not Applicable   \n",
      "1         KEN   KEN  Not Applicable  Not Applicable   \n",
      "2         SLB   SLB  Not Applicable  Not Applicable   \n",
      "3         PAK   PAK  Not Applicable  Not Applicable   \n",
      "4         SLB   SLB  Not Applicable  Not Applicable   \n",
      "\n",
      "                          geometry  \n",
      "0      MULTIPOINT (-178.95 -17.35)  \n",
      "1     MULTIPOINT (37.5333 -1.7167)  \n",
      "2  MULTIPOINT (160.82052 -9.81851)  \n",
      "3           MULTIPOINT (68.5 25.5)  \n",
      "4   MULTIPOINT (160.75539 -8.9179)  \n",
      "\n",
      "[5 rows x 29 columns]\n",
      "12003\n",
      "0         Designated\n",
      "1         Designated\n",
      "2        Established\n",
      "3         Designated\n",
      "4         Designated\n",
      "            ...     \n",
      "11998     Designated\n",
      "11999     Designated\n",
      "12000     Designated\n",
      "12001     Designated\n",
      "12002     Designated\n",
      "Name: STATUS, Length: 12003, dtype: object\n",
      "0           0\n",
      "1        1960\n",
      "2        2007\n",
      "3        1977\n",
      "4        2005\n",
      "         ... \n",
      "11998       0\n",
      "11999       0\n",
      "12000    2011\n",
      "12001    2011\n",
      "12002    2011\n",
      "Name: STATUS_YR, Length: 12003, dtype: int32\n"
     ]
    }
   ],
   "source": [
    "point_data = gpd.read_file(gdb_path, layer=layers[1])\n",
    "print(point_data.head())\n",
    "print(len(point_data))\n",
    "print(point_data['STATUS'])\n",
    "print(point_data['STATUS_YR'])"
   ]
  },
  {
   "cell_type": "markdown",
   "metadata": {},
   "source": [
    "Loading Ocean boundary data and filtering out any areas not in the ocean"
   ]
  },
  {
   "cell_type": "code",
   "execution_count": 6,
   "metadata": {},
   "outputs": [
    {
     "name": "stdout",
     "output_type": "stream",
     "text": [
      "   scalerank featurecla  min_zoom  \\\n",
      "0          0      Ocean       0.0   \n",
      "1          0      Ocean       0.0   \n",
      "\n",
      "                                            geometry  \n",
      "0  POLYGON ((49.11029 41.28229, 48.58447 41.8089,...  \n",
      "1  POLYGON ((180 71.51571, 178.7253 71.0988, 178....  \n",
      "Index(['scalerank', 'featurecla', 'min_zoom', 'geometry'], dtype='object')\n"
     ]
    }
   ],
   "source": [
    "gdb_path_ocean = rf'D:\\Datasets\\Illegal Fishing\\Original Data\\ne_110m_ocean\\ne_110m_ocean.shp'\n",
    "\n",
    "ocean_data = gpd.read_file(gdb_path_ocean)\n",
    "print(ocean_data)\n",
    "\n",
    "print(ocean_data.columns)\n"
   ]
  },
  {
   "cell_type": "code",
   "execution_count": null,
   "metadata": {},
   "outputs": [],
   "source": [
    "\n",
    "ocean_data = ocean_data.to_crs(poly_data.crs)\n",
    "point_data = point_data.to_crs(poly_data.crs)\n",
    "\n",
    "# Create spatial index for ocean boundaries\n",
    "ocean_sindex = ocean_data.sindex\n",
    "\n",
    "# Function to check if a geometry intersects with any of the ocean boundaries\n",
    "def intersects_ocean(geom, ocean_gdf, ocean_sindex):\n",
    "    # Find potential matches using spatial index\n",
    "    possible_matches_index = list(ocean_sindex.intersection(geom.bounds))\n",
    "    possible_matches = ocean_gdf.iloc[possible_matches_index]\n",
    "    \n",
    "    # Check for actual intersection\n",
    "    return possible_matches.intersects(geom).any()\n",
    "\n",
    "# Filter polygons that intersect with the ocean boundaries\n",
    "poly_data['within_ocean'] = poly_data.geometry.apply(lambda geom: intersects_ocean(geom, ocean_data, ocean_sindex))\n",
    "poly_within_ocean = poly_data[poly_data['within_ocean']]\n",
    "\n",
    "# Filter points that intersect with the ocean boundaries\n",
    "point_data['within_ocean'] = point_data.geometry.apply(lambda point: intersects_ocean(point, ocean_data, ocean_sindex))\n",
    "points_within_ocean = point_data[point_data['within_ocean']]\n",
    "\n",
    "# Display the filtered data\n",
    "print(\"Filtered Polygons:\")\n",
    "print(poly_within_ocean)\n",
    "print(\"\\nFiltered Points:\")\n",
    "print(points_within_ocean)\n",
    "\n",
    "poly_within_ocean.to_file(rf'D:\\Datasets\\Illegal Fishing\\Processed Data\\Filtered MPA data\\filtered_polygons.shp')\n",
    "points_within_ocean.to_file(rf'D:\\Datasets\\Illegal Fishing\\Processed Data\\Filtered MPA data\\filtered_points.shp')\n"
   ]
  },
  {
   "cell_type": "markdown",
   "metadata": {},
   "source": [
    "Loading up the vessel jouney data and only keeping journeys that were in the ocean."
   ]
  },
  {
   "cell_type": "code",
   "execution_count": null,
   "metadata": {},
   "outputs": [],
   "source": [
    "csv_files = glob.glob(rf'D:\\Datasets\\Illegal Fishing\\Original Data\\Ship data\\*.csv')\n",
    "\n",
    "df_list = []\n",
    "# Loop through each file and add the shiptype column\n",
    "for file in csv_files:\n",
    "\n",
    "    df = pd.read_csv(file)\n",
    "    shiptype = os.path.basename(file).replace('.csv', '')\n",
    "\n",
    "    df['shiptype'] = shiptype\n",
    "    df_list.append(df)\n",
    "\n",
    "ship_data = pd.concat(df_list, ignore_index=True)\n",
    "\n",
    "ship_data.to_csv(rf'D:\\Datasets\\Illegal Fishing\\Processed Data\\Complete_ship_data.csv')\n"
   ]
  },
  {
   "cell_type": "code",
   "execution_count": null,
   "metadata": {},
   "outputs": [],
   "source": [
    "file_path = rf'D:\\Datasets\\Illegal Fishing\\Processed Data\\Complete_ship_data.csv'\n",
    "\n",
    "df = pd.read_csv(file_path)\n",
    "print(df.columns )\n",
    "df['timestamp'] = pd.to_datetime(df['timestamp'], unit='s')\n",
    "if 'Unnamed: 0' in df.columns:\n",
    "    df.drop(columns=['Unnamed: 0'], inplace=True)\n",
    "df.to_csv(file_path, index=False)\n",
    "print(df.columns)"
   ]
  },
  {
   "cell_type": "markdown",
   "metadata": {},
   "source": [
    "Plotting the data"
   ]
  },
  {
   "cell_type": "code",
   "execution_count": null,
   "metadata": {},
   "outputs": [],
   "source": [
    "source_data = gpd.read_file(gdb_path, layer=layers[2])\n",
    "print(source_data.head())"
   ]
  },
  {
   "cell_type": "code",
   "execution_count": null,
   "metadata": {},
   "outputs": [],
   "source": [
    "\n",
    "point_data.plot()\n",
    "plt.show()"
   ]
  },
  {
   "cell_type": "code",
   "execution_count": null,
   "metadata": {},
   "outputs": [],
   "source": [
    "poly_data['geometry'] = poly_data['geometry'].simplify(tolerance=0.01, preserve_topology=True)\n",
    "fig, ax = plt.subplots(figsize=(10, 10))\n",
    "poly_data.plot(ax=ax, color='blue', edgecolor='black')\n",
    "\n",
    "plt.title('Multipolygon Data Plot')\n",
    "plt.xlabel('Longitude')\n",
    "plt.ylabel('Latitude')\n",
    "plt.show()"
   ]
  }
 ],
 "metadata": {
  "kernelspec": {
   "display_name": "Python 3",
   "language": "python",
   "name": "python3"
  },
  "language_info": {
   "codemirror_mode": {
    "name": "ipython",
    "version": 3
   },
   "file_extension": ".py",
   "mimetype": "text/x-python",
   "name": "python",
   "nbconvert_exporter": "python",
   "pygments_lexer": "ipython3",
   "version": "3.12.3"
  }
 },
 "nbformat": 4,
 "nbformat_minor": 2
}
