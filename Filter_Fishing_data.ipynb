{
 "cells": [
  {
   "cell_type": "code",
   "execution_count": 1,
   "metadata": {},
   "outputs": [],
   "source": [
    "import geopandas as gpd\n",
    "import pandas as pd \n",
    "import glob\n",
    "import os\n"
   ]
  },
  {
   "cell_type": "code",
   "execution_count": 2,
   "metadata": {},
   "outputs": [],
   "source": [
    "csv_files = glob.glob(rf'D:\\Datasets\\Illegal Fishing\\Original Data\\Ship data\\*.csv')\n",
    "\n",
    "df_list = []\n",
    "# Loop through each file and add the shiptype column\n",
    "for file in csv_files:\n",
    "\n",
    "    df = pd.read_csv(file)\n",
    "    shiptype = os.path.basename(file).replace('.csv', '')\n",
    "\n",
    "     # Drop rows where is_fishing = -1\n",
    "    df = df[df['is_fishing'] != -1]\n",
    "\n",
    "    df['shiptype'] = shiptype\n",
    "    df_list.append(df)\n",
    "\n",
    "ship_data = pd.concat(df_list, ignore_index=True)\n",
    "\n",
    "ship_data['timestamp'] = pd.to_datetime(ship_data['timestamp'], unit='s')\n",
    "if 'Unnamed: 0' in ship_data.columns:\n",
    "    ship_data.drop(columns=['Unnamed: 0'], inplace=True)\n"
   ]
  },
  {
   "cell_type": "code",
   "execution_count": 7,
   "metadata": {},
   "outputs": [],
   "source": [
    "# Define the custom function for mapping ranges\n",
    "def map_range(x):\n",
    "    if 0 <= x < 0.5 :\n",
    "        return 0\n",
    "    elif 0.5 <= x <= 1:\n",
    "        return 1\n",
    "     \n",
    "ship_data['is_fishing'] = ship_data['is_fishing'].apply(map_range)\n",
    "\n",
    "# Define the mapping\n",
    "gear_type_mapping = {\n",
    "    'drifting_longlines': 0,\n",
    "    'fixed_gear': 1,\n",
    "    'pole_and_line': 2,\n",
    "    'purse_seines': 3,\n",
    "    'trawlers': 4,\n",
    "    'trollers': 5,\n",
    "    'unknown': 6\n",
    "}\n",
    "\n",
    "\n",
    "ship_data['gear_type_encoded'] = ship_data['shiptype'].map(gear_type_mapping)\n",
    "\n",
    "ship_data.to_csv(rf'D:\\Datasets\\Illegal Fishing\\Processed Data\\Complete_ship_data.csv',index=False)"
   ]
  }
 ],
 "metadata": {
  "kernelspec": {
   "display_name": "Python 3",
   "language": "python",
   "name": "python3"
  },
  "language_info": {
   "codemirror_mode": {
    "name": "ipython",
    "version": 3
   },
   "file_extension": ".py",
   "mimetype": "text/x-python",
   "name": "python",
   "nbconvert_exporter": "python",
   "pygments_lexer": "ipython3",
   "version": "3.12.3"
  }
 },
 "nbformat": 4,
 "nbformat_minor": 2
}
